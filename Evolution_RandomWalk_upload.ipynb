{
 "cells": [
  {
   "cell_type": "code",
   "execution_count": null,
   "metadata": {},
   "outputs": [],
   "source": [
    "import os\n",
    "import random\n",
    "import torch\n",
    "import torch.nn.parallel\n",
    "import torch.optim as optim\n",
    "import torch.utils.data\n",
    "import torchvision.utils as vutils\n",
    "import numpy as np\n",
    "import matplotlib.pyplot as plt\n",
    "import matplotlib.animation as animation\n",
    "from IPython.display import HTML\n",
    "from numpy.random import randint\n",
    "\n",
    "# save images\n",
    "from torchvision.utils import save_image\n",
    "img_save_path = './plots/'\n",
    "os.makedirs(img_save_path, exist_ok=True)\n",
    "\n",
    "from CAN.parameters import *\n",
    "from CAN.dataloader_wikiart import *\n",
    "from CAN.model_CAN_16_9 import * "
   ]
  },
  {
   "cell_type": "code",
   "execution_count": null,
   "metadata": {},
   "outputs": [],
   "source": [
    "### setup\n",
    "\n",
    "# Set random seed for reproducibility\n",
    "manualSeed = 3\n",
    "#manualSeed = random.randint(1, 10000)\n",
    "print(\"Random Seed: \", manualSeed)\n",
    "random.seed(manualSeed)\n",
    "torch.manual_seed(manualSeed)\n",
    "np.random.seed(manualSeed)\n",
    "\n",
    "\n",
    "# Decide which device we want to run on\n",
    "device = torch.device(\"cuda:0\" if (torch.cuda.is_available() and ngpu > 0) else \"cpu\")"
   ]
  },
  {
   "cell_type": "code",
   "execution_count": null,
   "metadata": {},
   "outputs": [],
   "source": [
    "### load model\n",
    "\n",
    "# Create the generator\n",
    "netG = Generator(ngpu).to(device)\n",
    "\n",
    "# Setup Adam optimizers for G\n",
    "optimizerG = optim.Adam(netG.parameters(), lr=lr, betas=(beta1, 0.999))\n",
    "\n",
    "# Path to model parameters\n",
    "PATH_GEN = './CAN/models/GEN_16_9.pth'\n",
    "\n",
    "# load checkpoint\n",
    "checkpoint = torch.load(PATH_GEN, map_location=torch.device('cpu'))\n",
    "netG.load_state_dict(checkpoint['model_state_dict'])\n",
    "optimizerG.load_state_dict(checkpoint['optimizer_state_dict'])\n",
    "\n",
    "# set model to evaluation\n",
    "netG.eval()"
   ]
  },
  {
   "cell_type": "code",
   "execution_count": null,
   "metadata": {},
   "outputs": [],
   "source": [
    "## set a first set of genes\n",
    "\n",
    "# Create bunch of latent vectors that we will use for evolution\n",
    "genes = torch.randn(64, 100, 1, 1, device=device)"
   ]
  },
  {
   "cell_type": "code",
   "execution_count": null,
   "metadata": {},
   "outputs": [],
   "source": [
    "## random walk of little gaussian mutations\n",
    "\n",
    "def random_walk(genes, iterations = 1000, std = 0.05, indpb = 0.5):\n",
    "    \n",
    "    img_list = []\n",
    "\n",
    "    with torch.no_grad():\n",
    "        fake = netG(genes).detach().cpu()\n",
    "        img_list.append(vutils.make_grid(fake, padding=2, normalize=True))\n",
    "        save_image(fake.data, img_save_path + '/random_walk_%d.png' % (0), normalize=True)\n",
    "\n",
    "    for i in range(iterations):\n",
    "        for j in range(genes.size()[0]):\n",
    "            # if only one gene is changed\n",
    "            #locus = torch.randint(0, 100, size = (1,))\n",
    "            #genes[j][locus] += mutation\n",
    "            for gen in range(100):\n",
    "                # indpb for every single gene in genes\n",
    "                if torch.rand(1) > indpb:\n",
    "                    mutation = torch.normal(0, std, size = (1,))\n",
    "                    genes[j][gen] += mutation\n",
    "\n",
    "        with torch.no_grad():\n",
    "            fake = netG(genes).detach().cpu()\n",
    "            img_list.append(vutils.make_grid(fake, padding=2, normalize=True))\n",
    "            save_image(fake.data, img_save_path + '/random_walk_%d.png' % (i+1), normalize=True)\n",
    "    \n",
    "    return img_list"
   ]
  },
  {
   "cell_type": "code",
   "execution_count": null,
   "metadata": {},
   "outputs": [],
   "source": [
    "img_list = random_walk(genes, iterations = 100)"
   ]
  },
  {
   "cell_type": "code",
   "execution_count": null,
   "metadata": {},
   "outputs": [],
   "source": [
    "# Visualize Random Walk\n",
    "fig = plt.figure(figsize=(8,6))\n",
    "plt.axis(\"off\")\n",
    "ims = [[plt.imshow(np.transpose(i,(1,2,0)), animated=True)] for i in img_list]\n",
    "ani = animation.ArtistAnimation(fig, ims, interval=1000, repeat_delay=1000, blit=True)\n",
    "\n",
    "HTML(ani.to_jshtml())"
   ]
  }
 ],
 "metadata": {
  "kernelspec": {
   "display_name": "Thesis",
   "language": "python",
   "name": "python3"
  },
  "language_info": {
   "codemirror_mode": {
    "name": "ipython",
    "version": 3
   },
   "file_extension": ".py",
   "mimetype": "text/x-python",
   "name": "python",
   "nbconvert_exporter": "python",
   "pygments_lexer": "ipython3",
   "version": "3.10.10"
  },
  "orig_nbformat": 4
 },
 "nbformat": 4,
 "nbformat_minor": 2
}
